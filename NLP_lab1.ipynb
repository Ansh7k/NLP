{
  "nbformat": 4,
  "nbformat_minor": 0,
  "metadata": {
    "colab": {
      "provenance": []
    },
    "kernelspec": {
      "name": "python3",
      "display_name": "Python 3"
    },
    "language_info": {
      "name": "python"
    }
  },
  "cells": [
    {
      "cell_type": "code",
      "metadata": {
        "colab": {
          "base_uri": "https://localhost:8080/"
        },
        "id": "a7eee8fe",
        "outputId": "3b8a8a92-40be-41cc-f96c-a774bc762b18"
      },
      "source": [
        "file_path = '/content/drive/My Drive/para.txt'\n",
        "\n",
        "try:\n",
        "    with open(file_path, 'r') as f:\n",
        "        text_content = f.read()\n",
        "        print(text_content)\n",
        "except FileNotFoundError:\n",
        "    print(f\"Error: File not found at {file_path}\")\n",
        "except Exception as e:\n",
        "    print(f\"An error occurred: {e}\")"
      ],
      "execution_count": 27,
      "outputs": [
        {
          "output_type": "stream",
          "name": "stdout",
          "text": [
            "1.\twhoaaaa 😵 this article on AI & ethics issss fireeee!!! i mean, wowww, the way it talks about robotssss takin’ over da world? lollll 😂😂😂 so craaazy! found it at www.robotnews.com//// 4 real, u gotta read ittt!!! @@@ #scarybutcool #futuristicttt\n",
            "2.\tcan'tttt evennnn with this new techppp blog... sooo muchhh info jam-packed in one loooong posttttt 😩😩!! but the way itzz writtennn… nahhh bruh. full of typos, emoji overload 🤯💥, and weirddddd punctuationnnn like !!!!!!????!!! find it at www.techmessy.io////\n",
            "3.\tA.I. is changinnn’ da worldd, fam!! 🤖✨ like everyyy single aspect of lifeee—workkk, healthhh, educashun 😂😂😂!! dis article: \"how AI gonna make u smarterrrr\" waz LIT 🔥🔥🔥. got it from www.getsmartai.com//// plzzzz fix the grammerz tho #looolz @@@!!!!\n",
            "4.\tomg omg omg 😱😱!! dat post on generative AI + music just BLEW MY HEADDD OFF!! 🧠💥💥💥 no joke!!! \"beethovennnn with beats\" lol whattt evennnn 😆😆 #nextlevel. saw it on www.genmusic.art//// so so many randomnn letterssss & symbols #@#@# 😵\n",
            "5.\tlolz!!! u ever read sumthing n feel dumberrrr after??? 🤣🤣 this blog on AI bias had soooo manyyyy errorsss, like spellingggg, grammerzz, and weird layout @@@%%%... i had to squinttttt. check dis out: www.wacksource.ai//// but read at ur own risk lololol\n",
            "\n"
          ]
        }
      ]
    },
    {
      "cell_type": "code",
      "source": [
        "import re\n",
        "txt = text_content\n",
        "txt = txt.lower()\n",
        "x = re.sub(r'(.)\\1{1,}', r'\\1', txt)\n",
        "x = re.sub(r'\\w+[.]+\\w+[.]+\\w+[/]','',x)\n",
        "x = re.sub(r'[^a-zA-Z /s]', '', x)\n",
        "x = re.sub(r'///','',x)\n",
        "x = x.replace('\\t', ' ')\n",
        "print(x)\n"
      ],
      "metadata": {
        "colab": {
          "base_uri": "https://localhost:8080/"
        },
        "id": "cIhfhtjGHczu",
        "outputId": "e18ecb74-60ab-4d94-bd9d-7aebd76c74a1"
      },
      "execution_count": 52,
      "outputs": [
        {
          "output_type": "stream",
          "name": "stdout",
          "text": [
            "whoa  this article on ai  ethics is fire i mean wow the way it talks about robots takin over da world lol  so crazy found it at   real u gota read it  scarybutcol futuristictcant even with this new techp blog so much info jampacked in one long post  but the way itz writen nah bruh ful of typos emoji overload  and weird punctuation like  find it at ai is changin da world fam  like every single aspect of lifework health educashun  dis article how ai gona make u smarter waz lit  got it from  plz fix the gramerz tho lolz omg omg omg  dat post on generative ai  music just blew my head of  no joke bethoven with beats lol what even  nextlevel saw it on  so so many randomn leters  symbols  lolz u ever read sumthing n fel dumber after  this blog on ai bias had so many erors like speling gramerz and weird layout  i had to squint check dis out  but read at ur own risk lololol\n"
          ]
        }
      ]
    }
  ]
}